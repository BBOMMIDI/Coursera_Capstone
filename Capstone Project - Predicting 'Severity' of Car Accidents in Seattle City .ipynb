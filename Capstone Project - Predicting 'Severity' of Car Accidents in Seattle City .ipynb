{
 "cells": [
  {
   "cell_type": "markdown",
   "metadata": {},
   "source": [
    "<center><h1>Capstone Project - Car Accident Severity</h1></center>"
   ]
  },
  {
   "cell_type": "markdown",
   "metadata": {},
   "source": [
    "Create a \"Machine Learning\" Model to determine \"Accident Severity\" based on various input parameters like Human Fatality, Traffic Delay, Property Damage or any other type of accident bad impact."
   ]
  },
  {
   "cell_type": "code",
   "execution_count": 1,
   "metadata": {},
   "outputs": [],
   "source": [
    "import pandas as pd\n",
    "import numpy as np"
   ]
  },
  {
   "cell_type": "code",
   "execution_count": 2,
   "metadata": {},
   "outputs": [
    {
     "name": "stdout",
     "output_type": "stream",
     "text": [
      "Hello Capstone Project Course !!!\n"
     ]
    }
   ],
   "source": [
    "print(\"Hello Capstone Project Course !!!\")"
   ]
  },
  {
   "cell_type": "code",
   "execution_count": 3,
   "metadata": {},
   "outputs": [
    {
     "name": "stderr",
     "output_type": "stream",
     "text": [
      "'wget' is not recognized as an internal or external command,\n",
      "operable program or batch file.\n"
     ]
    }
   ],
   "source": [
    "!wget -O Data-Collisions.csv https://s3.us.cloud-object-storage.appdomain.cloud/cf-courses-data/CognitiveClass/DP0701EN/version-2/Data-Collisions.csv"
   ]
  },
  {
   "cell_type": "markdown",
   "metadata": {},
   "source": [
    "## Load Data From CSV File"
   ]
  },
  {
   "cell_type": "code",
   "execution_count": 4,
   "metadata": {
    "scrolled": true
   },
   "outputs": [
    {
     "name": "stderr",
     "output_type": "stream",
     "text": [
      "C:\\Users\\BHANUBOMMIDI\\Anaconda3\\lib\\site-packages\\IPython\\core\\interactiveshell.py:3071: DtypeWarning: Columns (33) have mixed types.Specify dtype option on import or set low_memory=False.\n",
      "  has_raised = await self.run_ast_nodes(code_ast.body, cell_name,\n"
     ]
    },
    {
     "data": {
      "text/html": [
       "<div>\n",
       "<style scoped>\n",
       "    .dataframe tbody tr th:only-of-type {\n",
       "        vertical-align: middle;\n",
       "    }\n",
       "\n",
       "    .dataframe tbody tr th {\n",
       "        vertical-align: top;\n",
       "    }\n",
       "\n",
       "    .dataframe thead th {\n",
       "        text-align: right;\n",
       "    }\n",
       "</style>\n",
       "<table border=\"1\" class=\"dataframe\">\n",
       "  <thead>\n",
       "    <tr style=\"text-align: right;\">\n",
       "      <th></th>\n",
       "      <th>SEVERITYCODE</th>\n",
       "      <th>X</th>\n",
       "      <th>Y</th>\n",
       "      <th>OBJECTID</th>\n",
       "      <th>INCKEY</th>\n",
       "      <th>COLDETKEY</th>\n",
       "      <th>REPORTNO</th>\n",
       "      <th>STATUS</th>\n",
       "      <th>ADDRTYPE</th>\n",
       "      <th>INTKEY</th>\n",
       "      <th>...</th>\n",
       "      <th>ROADCOND</th>\n",
       "      <th>LIGHTCOND</th>\n",
       "      <th>PEDROWNOTGRNT</th>\n",
       "      <th>SDOTCOLNUM</th>\n",
       "      <th>SPEEDING</th>\n",
       "      <th>ST_COLCODE</th>\n",
       "      <th>ST_COLDESC</th>\n",
       "      <th>SEGLANEKEY</th>\n",
       "      <th>CROSSWALKKEY</th>\n",
       "      <th>HITPARKEDCAR</th>\n",
       "    </tr>\n",
       "  </thead>\n",
       "  <tbody>\n",
       "    <tr>\n",
       "      <th>0</th>\n",
       "      <td>2</td>\n",
       "      <td>-122.323148</td>\n",
       "      <td>47.703140</td>\n",
       "      <td>1</td>\n",
       "      <td>1307</td>\n",
       "      <td>1307</td>\n",
       "      <td>3502005</td>\n",
       "      <td>Matched</td>\n",
       "      <td>Intersection</td>\n",
       "      <td>37475.0</td>\n",
       "      <td>...</td>\n",
       "      <td>Wet</td>\n",
       "      <td>Daylight</td>\n",
       "      <td>NaN</td>\n",
       "      <td>NaN</td>\n",
       "      <td>NaN</td>\n",
       "      <td>10</td>\n",
       "      <td>Entering at angle</td>\n",
       "      <td>0</td>\n",
       "      <td>0</td>\n",
       "      <td>N</td>\n",
       "    </tr>\n",
       "    <tr>\n",
       "      <th>1</th>\n",
       "      <td>1</td>\n",
       "      <td>-122.347294</td>\n",
       "      <td>47.647172</td>\n",
       "      <td>2</td>\n",
       "      <td>52200</td>\n",
       "      <td>52200</td>\n",
       "      <td>2607959</td>\n",
       "      <td>Matched</td>\n",
       "      <td>Block</td>\n",
       "      <td>NaN</td>\n",
       "      <td>...</td>\n",
       "      <td>Wet</td>\n",
       "      <td>Dark - Street Lights On</td>\n",
       "      <td>NaN</td>\n",
       "      <td>6354039.0</td>\n",
       "      <td>NaN</td>\n",
       "      <td>11</td>\n",
       "      <td>From same direction - both going straight - bo...</td>\n",
       "      <td>0</td>\n",
       "      <td>0</td>\n",
       "      <td>N</td>\n",
       "    </tr>\n",
       "    <tr>\n",
       "      <th>2</th>\n",
       "      <td>1</td>\n",
       "      <td>-122.334540</td>\n",
       "      <td>47.607871</td>\n",
       "      <td>3</td>\n",
       "      <td>26700</td>\n",
       "      <td>26700</td>\n",
       "      <td>1482393</td>\n",
       "      <td>Matched</td>\n",
       "      <td>Block</td>\n",
       "      <td>NaN</td>\n",
       "      <td>...</td>\n",
       "      <td>Dry</td>\n",
       "      <td>Daylight</td>\n",
       "      <td>NaN</td>\n",
       "      <td>4323031.0</td>\n",
       "      <td>NaN</td>\n",
       "      <td>32</td>\n",
       "      <td>One parked--one moving</td>\n",
       "      <td>0</td>\n",
       "      <td>0</td>\n",
       "      <td>N</td>\n",
       "    </tr>\n",
       "    <tr>\n",
       "      <th>3</th>\n",
       "      <td>1</td>\n",
       "      <td>-122.334803</td>\n",
       "      <td>47.604803</td>\n",
       "      <td>4</td>\n",
       "      <td>1144</td>\n",
       "      <td>1144</td>\n",
       "      <td>3503937</td>\n",
       "      <td>Matched</td>\n",
       "      <td>Block</td>\n",
       "      <td>NaN</td>\n",
       "      <td>...</td>\n",
       "      <td>Dry</td>\n",
       "      <td>Daylight</td>\n",
       "      <td>NaN</td>\n",
       "      <td>NaN</td>\n",
       "      <td>NaN</td>\n",
       "      <td>23</td>\n",
       "      <td>From same direction - all others</td>\n",
       "      <td>0</td>\n",
       "      <td>0</td>\n",
       "      <td>N</td>\n",
       "    </tr>\n",
       "    <tr>\n",
       "      <th>4</th>\n",
       "      <td>2</td>\n",
       "      <td>-122.306426</td>\n",
       "      <td>47.545739</td>\n",
       "      <td>5</td>\n",
       "      <td>17700</td>\n",
       "      <td>17700</td>\n",
       "      <td>1807429</td>\n",
       "      <td>Matched</td>\n",
       "      <td>Intersection</td>\n",
       "      <td>34387.0</td>\n",
       "      <td>...</td>\n",
       "      <td>Wet</td>\n",
       "      <td>Daylight</td>\n",
       "      <td>NaN</td>\n",
       "      <td>4028032.0</td>\n",
       "      <td>NaN</td>\n",
       "      <td>10</td>\n",
       "      <td>Entering at angle</td>\n",
       "      <td>0</td>\n",
       "      <td>0</td>\n",
       "      <td>N</td>\n",
       "    </tr>\n",
       "  </tbody>\n",
       "</table>\n",
       "<p>5 rows × 38 columns</p>\n",
       "</div>"
      ],
      "text/plain": [
       "   SEVERITYCODE           X          Y  OBJECTID  INCKEY  COLDETKEY REPORTNO  \\\n",
       "0             2 -122.323148  47.703140         1    1307       1307  3502005   \n",
       "1             1 -122.347294  47.647172         2   52200      52200  2607959   \n",
       "2             1 -122.334540  47.607871         3   26700      26700  1482393   \n",
       "3             1 -122.334803  47.604803         4    1144       1144  3503937   \n",
       "4             2 -122.306426  47.545739         5   17700      17700  1807429   \n",
       "\n",
       "    STATUS      ADDRTYPE   INTKEY  ... ROADCOND                LIGHTCOND  \\\n",
       "0  Matched  Intersection  37475.0  ...      Wet                 Daylight   \n",
       "1  Matched         Block      NaN  ...      Wet  Dark - Street Lights On   \n",
       "2  Matched         Block      NaN  ...      Dry                 Daylight   \n",
       "3  Matched         Block      NaN  ...      Dry                 Daylight   \n",
       "4  Matched  Intersection  34387.0  ...      Wet                 Daylight   \n",
       "\n",
       "  PEDROWNOTGRNT  SDOTCOLNUM SPEEDING ST_COLCODE  \\\n",
       "0           NaN         NaN      NaN         10   \n",
       "1           NaN   6354039.0      NaN         11   \n",
       "2           NaN   4323031.0      NaN         32   \n",
       "3           NaN         NaN      NaN         23   \n",
       "4           NaN   4028032.0      NaN         10   \n",
       "\n",
       "                                          ST_COLDESC  SEGLANEKEY  \\\n",
       "0                                  Entering at angle           0   \n",
       "1  From same direction - both going straight - bo...           0   \n",
       "2                             One parked--one moving           0   \n",
       "3                   From same direction - all others           0   \n",
       "4                                  Entering at angle           0   \n",
       "\n",
       "   CROSSWALKKEY  HITPARKEDCAR  \n",
       "0             0             N  \n",
       "1             0             N  \n",
       "2             0             N  \n",
       "3             0             N  \n",
       "4             0             N  \n",
       "\n",
       "[5 rows x 38 columns]"
      ]
     },
     "execution_count": 4,
     "metadata": {},
     "output_type": "execute_result"
    }
   ],
   "source": [
    "df = pd.read_csv('Data-Collisions.csv')\n",
    "df.head()"
   ]
  },
  {
   "cell_type": "markdown",
   "metadata": {},
   "source": [
    "Let's try to plot the Top 5 Weather conditions for the Car Accidents."
   ]
  },
  {
   "cell_type": "code",
   "execution_count": 5,
   "metadata": {},
   "outputs": [
    {
     "data": {
      "image/png": "[encoded data removed]",
      "text/plain": [
       "<Figure size 720x360 with 1 Axes>"
      ]
     },
     "metadata": {
      "needs_background": "light"
     },
     "output_type": "display_data"
    }
   ],
   "source": [
    "import matplotlib.pyplot as plt\n",
    "\n",
    "fig, ax=plt.subplots(figsize=(10,5))\n",
    "\n",
    "values = df['WEATHER'].value_counts().sort_values(ascending=False).head(5)\n",
    "df['WEATHER'].value_counts().sort_values(ascending=False).head(5).plot.bar(width=0.5,edgecolor='k',align='center')\n",
    "\n",
    "ax.tick_params(labelsize=10)\n",
    "for i, v in enumerate(values):\n",
    "    ax.text(i, v+200, \"%d\" %v, ha=\"center\")\n",
    "\n",
    "plt.title('Top 5 Weather conditions for Car Accidents in Seattle City',fontsize=15)\n",
    "plt.xlabel('Weather Condition',fontsize=10)\n",
    "plt.ylabel('Number of Accidents',fontsize=10)\n",
    "plt.grid()"
   ]
  },
  {
   "cell_type": "markdown",
   "metadata": {},
   "source": [
    "As you can see, the majority of the Car Accidents in Seattle City seems to happen even when the weather is \"Clear\"."
   ]
  },
  {
   "cell_type": "markdown",
   "metadata": {},
   "source": [
    "Now, let's check the counts by \"Severity Code\" to validate if the Input data set is \"Balanced\" or \"Unbalanced\" to avoid creating a biased ML model."
   ]
  },
  {
   "cell_type": "code",
   "execution_count": 6,
   "metadata": {},
   "outputs": [
    {
     "data": {
      "text/plain": [
       "1    136485\n",
       "2     58188\n",
       "Name: SEVERITYCODE, dtype: int64"
      ]
     },
     "execution_count": 6,
     "metadata": {},
     "output_type": "execute_result"
    }
   ],
   "source": [
    "df['SEVERITYCODE'].value_counts()"
   ]
  },
  {
   "cell_type": "markdown",
   "metadata": {},
   "source": [
    "Input data is \"Unbalanced\" i.e.; there are twice the entries for \"Severity 1\", compared to \"Severity 2\" which might result in the creation of a biased ML model. Balance the Sheet, by randomly removing \"Severity 1\" entries such that they are in-line with the number of entries for \"Severity 2\"."
   ]
  },
  {
   "cell_type": "code",
   "execution_count": 7,
   "metadata": {},
   "outputs": [],
   "source": [
    "df_majority = df[df['SEVERITYCODE']==1]\n",
    "df_minority  = df[df['SEVERITYCODE']==2]\n",
    "\n",
    "df_majority = df_majority.sample(len(df_minority), random_state=0)\n",
    "df = pd.concat([df_majority,df_minority])\n",
    "df = df.sample(frac=1, random_state=0)"
   ]
  },
  {
   "cell_type": "markdown",
   "metadata": {},
   "source": [
    "Re-check the counts by \"Severity Code\" to confirm that the new data set is now \"Balanced\"."
   ]
  },
  {
   "cell_type": "code",
   "execution_count": 8,
   "metadata": {},
   "outputs": [
    {
     "data": {
      "text/plain": [
       "2    58188\n",
       "1    58188\n",
       "Name: SEVERITYCODE, dtype: int64"
      ]
     },
     "execution_count": 8,
     "metadata": {},
     "output_type": "execute_result"
    }
   ],
   "source": [
    "df['SEVERITYCODE'].value_counts()"
   ]
  },
  {
   "cell_type": "markdown",
   "metadata": {},
   "source": [
    "# Data Visualization and Pre-processing"
   ]
  },
  {
   "cell_type": "markdown",
   "metadata": {},
   "source": [
    "Let's deduce additional attributes like Year, Month, Day, Hour, Day of the Week etc.; from Incident Date-Time."
   ]
  },
  {
   "cell_type": "code",
   "execution_count": 9,
   "metadata": {},
   "outputs": [],
   "source": [
    "df.rename({'X': 'LONGITUDE', 'Y': 'LATITUDE'}, axis=1, inplace=True)\n",
    "df['INCDTTM'] = pd.to_datetime(df['INCDTTM'])\n",
    "df['INCYEAR']=df['INCDTTM'].dt.year\n",
    "df['INCMNTH']=df['INCDTTM'].dt.strftime('%m')\n",
    "df['INCDAY']=df['INCDTTM'].dt.day\n",
    "df['INCHOUR']=df['INCDTTM'].dt.hour\n",
    "df['INCWKDY']=df['INCDTTM'].dt.strftime('%w')"
   ]
  },
  {
   "cell_type": "markdown",
   "metadata": {},
   "source": [
    "Let's try to see how the Accident data is spread across by Year to see, if there is any linear spread or if there are any outliers."
   ]
  },
  {
   "cell_type": "code",
   "execution_count": 10,
   "metadata": {},
   "outputs": [
    {
     "data": {
      "image/png": "[encoded data removed]",
      "text/plain": [
       "<Figure size 1080x360 with 1 Axes>"
      ]
     },
     "metadata": {
      "needs_background": "light"
     },
     "output_type": "display_data"
    }
   ],
   "source": [
    "fig, ax=plt.subplots(figsize=(15,5))\n",
    "\n",
    "values = df['INCYEAR'].value_counts().sort_index(ascending=True)\n",
    "df['INCYEAR'].value_counts().sort_index(ascending=True).head(20).plot.bar(width=0.7,edgecolor='k',align='center')\n",
    "\n",
    "ax.tick_params(labelsize=10)\n",
    "for i, v in enumerate(values):\n",
    "    ax.text(i, v+100, \"%d\" %v, ha=\"center\")\n",
    "\n",
    "plt.title('Yearly Trend of Car Accidents in Seattle City',fontsize=15)\n",
    "plt.xlabel('Incident Year',fontsize=10)\n",
    "plt.ylabel('Number of Accidents',fontsize=10)\n",
    "plt.grid()"
   ]
  },
  {
   "cell_type": "code",
   "execution_count": 11,
   "metadata": {},
   "outputs": [],
   "source": [
    "df['UNDERINFL'].replace({'N':0, 'Y':1}, inplace = True)\n",
    "df['ST_COLCODE'].replace(' ', '31', inplace = True)"
   ]
  },
  {
   "cell_type": "markdown",
   "metadata": {},
   "source": [
    "Let's find out the count of missing values for various attributes."
   ]
  },
  {
   "cell_type": "code",
   "execution_count": 12,
   "metadata": {
    "scrolled": true
   },
   "outputs": [
    {
     "data": {
      "text/html": [
       "<div>\n",
       "<style scoped>\n",
       "    .dataframe tbody tr th:only-of-type {\n",
       "        vertical-align: middle;\n",
       "    }\n",
       "\n",
       "    .dataframe tbody tr th {\n",
       "        vertical-align: top;\n",
       "    }\n",
       "\n",
       "    .dataframe thead th {\n",
       "        text-align: right;\n",
       "    }\n",
       "</style>\n",
       "<table border=\"1\" class=\"dataframe\">\n",
       "  <thead>\n",
       "    <tr style=\"text-align: right;\">\n",
       "      <th></th>\n",
       "      <th>COL_NAME</th>\n",
       "      <th>MISS_COUNT</th>\n",
       "      <th>MISS_RATIO</th>\n",
       "    </tr>\n",
       "  </thead>\n",
       "  <tbody>\n",
       "    <tr>\n",
       "      <th>33</th>\n",
       "      <td>ST_COLCODE</td>\n",
       "      <td>16</td>\n",
       "      <td>0.000137</td>\n",
       "    </tr>\n",
       "    <tr>\n",
       "      <th>8</th>\n",
       "      <td>ADDRTYPE</td>\n",
       "      <td>906</td>\n",
       "      <td>0.007785</td>\n",
       "    </tr>\n",
       "    <tr>\n",
       "      <th>10</th>\n",
       "      <td>LOCATION</td>\n",
       "      <td>1275</td>\n",
       "      <td>0.010956</td>\n",
       "    </tr>\n",
       "    <tr>\n",
       "      <th>26</th>\n",
       "      <td>UNDERINFL</td>\n",
       "      <td>2683</td>\n",
       "      <td>0.023055</td>\n",
       "    </tr>\n",
       "    <tr>\n",
       "      <th>15</th>\n",
       "      <td>COLLISIONTYPE</td>\n",
       "      <td>2699</td>\n",
       "      <td>0.023192</td>\n",
       "    </tr>\n",
       "    <tr>\n",
       "      <th>34</th>\n",
       "      <td>ST_COLDESC</td>\n",
       "      <td>2699</td>\n",
       "      <td>0.023192</td>\n",
       "    </tr>\n",
       "    <tr>\n",
       "      <th>28</th>\n",
       "      <td>ROADCOND</td>\n",
       "      <td>2758</td>\n",
       "      <td>0.023699</td>\n",
       "    </tr>\n",
       "    <tr>\n",
       "      <th>27</th>\n",
       "      <td>WEATHER</td>\n",
       "      <td>2795</td>\n",
       "      <td>0.024017</td>\n",
       "    </tr>\n",
       "    <tr>\n",
       "      <th>29</th>\n",
       "      <td>LIGHTCOND</td>\n",
       "      <td>2829</td>\n",
       "      <td>0.024309</td>\n",
       "    </tr>\n",
       "    <tr>\n",
       "      <th>2</th>\n",
       "      <td>LATITUDE</td>\n",
       "      <td>2875</td>\n",
       "      <td>0.024704</td>\n",
       "    </tr>\n",
       "    <tr>\n",
       "      <th>1</th>\n",
       "      <td>LONGITUDE</td>\n",
       "      <td>2875</td>\n",
       "      <td>0.024704</td>\n",
       "    </tr>\n",
       "    <tr>\n",
       "      <th>22</th>\n",
       "      <td>JUNCTIONTYPE</td>\n",
       "      <td>2912</td>\n",
       "      <td>0.025022</td>\n",
       "    </tr>\n",
       "    <tr>\n",
       "      <th>31</th>\n",
       "      <td>SDOTCOLNUM</td>\n",
       "      <td>48238</td>\n",
       "      <td>0.414501</td>\n",
       "    </tr>\n",
       "    <tr>\n",
       "      <th>11</th>\n",
       "      <td>EXCEPTRSNCODE</td>\n",
       "      <td>64605</td>\n",
       "      <td>0.555140</td>\n",
       "    </tr>\n",
       "    <tr>\n",
       "      <th>9</th>\n",
       "      <td>INTKEY</td>\n",
       "      <td>72609</td>\n",
       "      <td>0.623917</td>\n",
       "    </tr>\n",
       "    <tr>\n",
       "      <th>25</th>\n",
       "      <td>INATTENTIONIND</td>\n",
       "      <td>97627</td>\n",
       "      <td>0.838893</td>\n",
       "    </tr>\n",
       "    <tr>\n",
       "      <th>32</th>\n",
       "      <td>SPEEDING</td>\n",
       "      <td>110328</td>\n",
       "      <td>0.948031</td>\n",
       "    </tr>\n",
       "    <tr>\n",
       "      <th>30</th>\n",
       "      <td>PEDROWNOTGRNT</td>\n",
       "      <td>111960</td>\n",
       "      <td>0.962054</td>\n",
       "    </tr>\n",
       "    <tr>\n",
       "      <th>12</th>\n",
       "      <td>EXCEPTRSNDESC</td>\n",
       "      <td>113701</td>\n",
       "      <td>0.977014</td>\n",
       "    </tr>\n",
       "  </tbody>\n",
       "</table>\n",
       "</div>"
      ],
      "text/plain": [
       "          COL_NAME  MISS_COUNT  MISS_RATIO\n",
       "33      ST_COLCODE          16    0.000137\n",
       "8         ADDRTYPE         906    0.007785\n",
       "10        LOCATION        1275    0.010956\n",
       "26       UNDERINFL        2683    0.023055\n",
       "15   COLLISIONTYPE        2699    0.023192\n",
       "34      ST_COLDESC        2699    0.023192\n",
       "28        ROADCOND        2758    0.023699\n",
       "27         WEATHER        2795    0.024017\n",
       "29       LIGHTCOND        2829    0.024309\n",
       "2         LATITUDE        2875    0.024704\n",
       "1        LONGITUDE        2875    0.024704\n",
       "22    JUNCTIONTYPE        2912    0.025022\n",
       "31      SDOTCOLNUM       48238    0.414501\n",
       "11   EXCEPTRSNCODE       64605    0.555140\n",
       "9           INTKEY       72609    0.623917\n",
       "25  INATTENTIONIND       97627    0.838893\n",
       "32        SPEEDING      110328    0.948031\n",
       "30   PEDROWNOTGRNT      111960    0.962054\n",
       "12   EXCEPTRSNDESC      113701    0.977014"
      ]
     },
     "execution_count": 12,
     "metadata": {},
     "output_type": "execute_result"
    }
   ],
   "source": [
    "missing_df = df.isna().sum(axis=0).reset_index()\n",
    "missing_df.columns = ['COL_NAME','MISS_COUNT']\n",
    "missing_df['MISS_RATIO'] = missing_df['MISS_COUNT'] / df.shape[0]\n",
    "missing_df = missing_df.sort_values(by='MISS_RATIO')\n",
    "missing_df.loc[missing_df['MISS_RATIO'] != 0]"
   ]
  },
  {
   "cell_type": "markdown",
   "metadata": {},
   "source": [
    "## Pre-processing:  Feature Selection / Extraction"
   ]
  },
  {
   "cell_type": "markdown",
   "metadata": {},
   "source": [
    "Let's select the subset of the columns which are relevant and exclude the remaining ones i.e.; like Key Fields, Location, Description etc.; in addition to the columns for which more than 50% of the values are missing."
   ]
  },
  {
   "cell_type": "code",
   "execution_count": 13,
   "metadata": {},
   "outputs": [
    {
     "data": {
      "text/html": [
       "<div>\n",
       "<style scoped>\n",
       "    .dataframe tbody tr th:only-of-type {\n",
       "        vertical-align: middle;\n",
       "    }\n",
       "\n",
       "    .dataframe tbody tr th {\n",
       "        vertical-align: top;\n",
       "    }\n",
       "\n",
       "    .dataframe thead th {\n",
       "        text-align: right;\n",
       "    }\n",
       "</style>\n",
       "<table border=\"1\" class=\"dataframe\">\n",
       "  <thead>\n",
       "    <tr style=\"text-align: right;\">\n",
       "      <th></th>\n",
       "      <th>SEVERITYCODE</th>\n",
       "      <th>LATITUDE</th>\n",
       "      <th>LONGITUDE</th>\n",
       "      <th>ADDRTYPE</th>\n",
       "      <th>COLLISIONTYPE</th>\n",
       "      <th>PERSONCOUNT</th>\n",
       "      <th>PEDCOUNT</th>\n",
       "      <th>PEDCYLCOUNT</th>\n",
       "      <th>VEHCOUNT</th>\n",
       "      <th>INCYEAR</th>\n",
       "      <th>...</th>\n",
       "      <th>INCHOUR</th>\n",
       "      <th>INCWKDY</th>\n",
       "      <th>JUNCTIONTYPE</th>\n",
       "      <th>SDOT_COLCODE</th>\n",
       "      <th>UNDERINFL</th>\n",
       "      <th>WEATHER</th>\n",
       "      <th>ROADCOND</th>\n",
       "      <th>LIGHTCOND</th>\n",
       "      <th>ST_COLCODE</th>\n",
       "      <th>HITPARKEDCAR</th>\n",
       "    </tr>\n",
       "  </thead>\n",
       "  <tbody>\n",
       "    <tr>\n",
       "      <th>29959</th>\n",
       "      <td>2</td>\n",
       "      <td>47.628670</td>\n",
       "      <td>-122.320212</td>\n",
       "      <td>Intersection</td>\n",
       "      <td>Angles</td>\n",
       "      <td>2</td>\n",
       "      <td>0</td>\n",
       "      <td>0</td>\n",
       "      <td>2</td>\n",
       "      <td>2005</td>\n",
       "      <td>...</td>\n",
       "      <td>16</td>\n",
       "      <td>4</td>\n",
       "      <td>At Intersection (intersection related)</td>\n",
       "      <td>11</td>\n",
       "      <td>0</td>\n",
       "      <td>Clear</td>\n",
       "      <td>Dry</td>\n",
       "      <td>Daylight</td>\n",
       "      <td>10</td>\n",
       "      <td>N</td>\n",
       "    </tr>\n",
       "    <tr>\n",
       "      <th>110326</th>\n",
       "      <td>1</td>\n",
       "      <td>47.679416</td>\n",
       "      <td>-122.290376</td>\n",
       "      <td>Intersection</td>\n",
       "      <td>Pedestrian</td>\n",
       "      <td>2</td>\n",
       "      <td>1</td>\n",
       "      <td>0</td>\n",
       "      <td>1</td>\n",
       "      <td>2012</td>\n",
       "      <td>...</td>\n",
       "      <td>15</td>\n",
       "      <td>6</td>\n",
       "      <td>At Intersection (intersection related)</td>\n",
       "      <td>24</td>\n",
       "      <td>0</td>\n",
       "      <td>Clear</td>\n",
       "      <td>Dry</td>\n",
       "      <td>Daylight</td>\n",
       "      <td>2</td>\n",
       "      <td>N</td>\n",
       "    </tr>\n",
       "    <tr>\n",
       "      <th>5970</th>\n",
       "      <td>2</td>\n",
       "      <td>47.601695</td>\n",
       "      <td>-122.317823</td>\n",
       "      <td>Intersection</td>\n",
       "      <td>Angles</td>\n",
       "      <td>2</td>\n",
       "      <td>0</td>\n",
       "      <td>0</td>\n",
       "      <td>2</td>\n",
       "      <td>2004</td>\n",
       "      <td>...</td>\n",
       "      <td>0</td>\n",
       "      <td>5</td>\n",
       "      <td>At Intersection (intersection related)</td>\n",
       "      <td>11</td>\n",
       "      <td>1</td>\n",
       "      <td>Clear</td>\n",
       "      <td>Dry</td>\n",
       "      <td>Dark - Street Lights On</td>\n",
       "      <td>10</td>\n",
       "      <td>N</td>\n",
       "    </tr>\n",
       "    <tr>\n",
       "      <th>130027</th>\n",
       "      <td>1</td>\n",
       "      <td>47.546051</td>\n",
       "      <td>-122.285158</td>\n",
       "      <td>Block</td>\n",
       "      <td>Rear Ended</td>\n",
       "      <td>2</td>\n",
       "      <td>0</td>\n",
       "      <td>0</td>\n",
       "      <td>2</td>\n",
       "      <td>2014</td>\n",
       "      <td>...</td>\n",
       "      <td>19</td>\n",
       "      <td>3</td>\n",
       "      <td>Mid-Block (but intersection related)</td>\n",
       "      <td>14</td>\n",
       "      <td>0</td>\n",
       "      <td>Unknown</td>\n",
       "      <td>Unknown</td>\n",
       "      <td>Unknown</td>\n",
       "      <td>14</td>\n",
       "      <td>N</td>\n",
       "    </tr>\n",
       "    <tr>\n",
       "      <th>76480</th>\n",
       "      <td>2</td>\n",
       "      <td>47.526469</td>\n",
       "      <td>-122.324681</td>\n",
       "      <td>Block</td>\n",
       "      <td>Rear Ended</td>\n",
       "      <td>6</td>\n",
       "      <td>0</td>\n",
       "      <td>0</td>\n",
       "      <td>2</td>\n",
       "      <td>2009</td>\n",
       "      <td>...</td>\n",
       "      <td>0</td>\n",
       "      <td>1</td>\n",
       "      <td>Mid-Block (but intersection related)</td>\n",
       "      <td>14</td>\n",
       "      <td>0</td>\n",
       "      <td>Raining</td>\n",
       "      <td>Snow/Slush</td>\n",
       "      <td>Dark - Street Lights On</td>\n",
       "      <td>14</td>\n",
       "      <td>N</td>\n",
       "    </tr>\n",
       "  </tbody>\n",
       "</table>\n",
       "<p>5 rows × 22 columns</p>\n",
       "</div>"
      ],
      "text/plain": [
       "        SEVERITYCODE   LATITUDE   LONGITUDE      ADDRTYPE COLLISIONTYPE  \\\n",
       "29959              2  47.628670 -122.320212  Intersection        Angles   \n",
       "110326             1  47.679416 -122.290376  Intersection    Pedestrian   \n",
       "5970               2  47.601695 -122.317823  Intersection        Angles   \n",
       "130027             1  47.546051 -122.285158         Block    Rear Ended   \n",
       "76480              2  47.526469 -122.324681         Block    Rear Ended   \n",
       "\n",
       "        PERSONCOUNT  PEDCOUNT  PEDCYLCOUNT  VEHCOUNT  INCYEAR  ... INCHOUR  \\\n",
       "29959             2         0            0         2     2005  ...      16   \n",
       "110326            2         1            0         1     2012  ...      15   \n",
       "5970              2         0            0         2     2004  ...       0   \n",
       "130027            2         0            0         2     2014  ...      19   \n",
       "76480             6         0            0         2     2009  ...       0   \n",
       "\n",
       "        INCWKDY                            JUNCTIONTYPE SDOT_COLCODE  \\\n",
       "29959         4  At Intersection (intersection related)           11   \n",
       "110326        6  At Intersection (intersection related)           24   \n",
       "5970          5  At Intersection (intersection related)           11   \n",
       "130027        3    Mid-Block (but intersection related)           14   \n",
       "76480         1    Mid-Block (but intersection related)           14   \n",
       "\n",
       "       UNDERINFL  WEATHER    ROADCOND                LIGHTCOND ST_COLCODE  \\\n",
       "29959          0    Clear         Dry                 Daylight         10   \n",
       "110326         0    Clear         Dry                 Daylight          2   \n",
       "5970           1    Clear         Dry  Dark - Street Lights On         10   \n",
       "130027         0  Unknown     Unknown                  Unknown         14   \n",
       "76480          0  Raining  Snow/Slush  Dark - Street Lights On         14   \n",
       "\n",
       "       HITPARKEDCAR  \n",
       "29959             N  \n",
       "110326            N  \n",
       "5970              N  \n",
       "130027            N  \n",
       "76480             N  \n",
       "\n",
       "[5 rows x 22 columns]"
      ]
     },
     "execution_count": 13,
     "metadata": {},
     "output_type": "execute_result"
    }
   ],
   "source": [
    "df_data = df[['SEVERITYCODE','LATITUDE','LONGITUDE','ADDRTYPE','COLLISIONTYPE','PERSONCOUNT','PEDCOUNT','PEDCYLCOUNT','VEHCOUNT','INCYEAR','INCMNTH','INCDAY','INCHOUR','INCWKDY','JUNCTIONTYPE','SDOT_COLCODE','UNDERINFL','WEATHER','ROADCOND','LIGHTCOND','ST_COLCODE','HITPARKEDCAR']]\n",
    "df_data.head()"
   ]
  },
  {
   "cell_type": "markdown",
   "metadata": {},
   "source": [
    "Let's cross-check the Data Types of the various attributes to accordingly convert them, if needed."
   ]
  },
  {
   "cell_type": "code",
   "execution_count": 14,
   "metadata": {},
   "outputs": [
    {
     "data": {
      "text/plain": [
       "SEVERITYCODE       int64\n",
       "LATITUDE         float64\n",
       "LONGITUDE        float64\n",
       "ADDRTYPE          object\n",
       "COLLISIONTYPE     object\n",
       "PERSONCOUNT        int64\n",
       "PEDCOUNT           int64\n",
       "PEDCYLCOUNT        int64\n",
       "VEHCOUNT           int64\n",
       "INCYEAR            int64\n",
       "INCMNTH           object\n",
       "INCDAY             int64\n",
       "INCHOUR            int64\n",
       "INCWKDY           object\n",
       "JUNCTIONTYPE      object\n",
       "SDOT_COLCODE       int64\n",
       "UNDERINFL         object\n",
       "WEATHER           object\n",
       "ROADCOND          object\n",
       "LIGHTCOND         object\n",
       "ST_COLCODE        object\n",
       "HITPARKEDCAR      object\n",
       "dtype: object"
      ]
     },
     "execution_count": 14,
     "metadata": {},
     "output_type": "execute_result"
    }
   ],
   "source": [
    "df_data.dtypes"
   ]
  },
  {
   "cell_type": "markdown",
   "metadata": {},
   "source": [
    "Let's translate the \"Categorical\" data to Codes to determine the correlation of these fields with the \"Severity\" Code."
   ]
  },
  {
   "cell_type": "code",
   "execution_count": 15,
   "metadata": {},
   "outputs": [
    {
     "name": "stderr",
     "output_type": "stream",
     "text": [
      "C:\\Users\\BHANUBOMMIDI\\Anaconda3\\lib\\site-packages\\pandas\\core\\generic.py:6746: SettingWithCopyWarning: \n",
      "A value is trying to be set on a copy of a slice from a DataFrame\n",
      "\n",
      "See the caveats in the documentation: https://pandas.pydata.org/pandas-docs/stable/user_guide/indexing.html#returning-a-view-versus-a-copy\n",
      "  self._update_inplace(new_data)\n",
      "<ipython-input-15-a5f8c1f53cd0>:2: SettingWithCopyWarning: \n",
      "A value is trying to be set on a copy of a slice from a DataFrame.\n",
      "Try using .loc[row_indexer,col_indexer] = value instead\n",
      "\n",
      "See the caveats in the documentation: https://pandas.pydata.org/pandas-docs/stable/user_guide/indexing.html#returning-a-view-versus-a-copy\n",
      "  df_data['SEVERITYCODE'] = pd.to_numeric(df_data['SEVERITYCODE'])\n",
      "<ipython-input-15-a5f8c1f53cd0>:4: SettingWithCopyWarning: \n",
      "A value is trying to be set on a copy of a slice from a DataFrame.\n",
      "Try using .loc[row_indexer,col_indexer] = value instead\n",
      "\n",
      "See the caveats in the documentation: https://pandas.pydata.org/pandas-docs/stable/user_guide/indexing.html#returning-a-view-versus-a-copy\n",
      "  df_data['ADDRTYPE'] = df_data['ADDRTYPE'].astype('category')\n",
      "<ipython-input-15-a5f8c1f53cd0>:5: SettingWithCopyWarning: \n",
      "A value is trying to be set on a copy of a slice from a DataFrame.\n",
      "Try using .loc[row_indexer,col_indexer] = value instead\n",
      "\n",
      "See the caveats in the documentation: https://pandas.pydata.org/pandas-docs/stable/user_guide/indexing.html#returning-a-view-versus-a-copy\n",
      "  df_data['ADDRTYPE'] = df_data['ADDRTYPE'].cat.codes\n",
      "<ipython-input-15-a5f8c1f53cd0>:7: SettingWithCopyWarning: \n",
      "A value is trying to be set on a copy of a slice from a DataFrame.\n",
      "Try using .loc[row_indexer,col_indexer] = value instead\n",
      "\n",
      "See the caveats in the documentation: https://pandas.pydata.org/pandas-docs/stable/user_guide/indexing.html#returning-a-view-versus-a-copy\n",
      "  df_data['COLLISIONTYPE'] = df_data['COLLISIONTYPE'].astype('category')\n",
      "<ipython-input-15-a5f8c1f53cd0>:8: SettingWithCopyWarning: \n",
      "A value is trying to be set on a copy of a slice from a DataFrame.\n",
      "Try using .loc[row_indexer,col_indexer] = value instead\n",
      "\n",
      "See the caveats in the documentation: https://pandas.pydata.org/pandas-docs/stable/user_guide/indexing.html#returning-a-view-versus-a-copy\n",
      "  df_data['COLLISIONTYPE'] = df_data['COLLISIONTYPE'].cat.codes\n",
      "<ipython-input-15-a5f8c1f53cd0>:10: SettingWithCopyWarning: \n",
      "A value is trying to be set on a copy of a slice from a DataFrame.\n",
      "Try using .loc[row_indexer,col_indexer] = value instead\n",
      "\n",
      "See the caveats in the documentation: https://pandas.pydata.org/pandas-docs/stable/user_guide/indexing.html#returning-a-view-versus-a-copy\n",
      "  df_data['JUNCTIONTYPE'] = df_data['JUNCTIONTYPE'].astype('category')\n",
      "<ipython-input-15-a5f8c1f53cd0>:11: SettingWithCopyWarning: \n",
      "A value is trying to be set on a copy of a slice from a DataFrame.\n",
      "Try using .loc[row_indexer,col_indexer] = value instead\n",
      "\n",
      "See the caveats in the documentation: https://pandas.pydata.org/pandas-docs/stable/user_guide/indexing.html#returning-a-view-versus-a-copy\n",
      "  df_data['JUNCTIONTYPE'] = df_data['JUNCTIONTYPE'].cat.codes\n",
      "<ipython-input-15-a5f8c1f53cd0>:13: SettingWithCopyWarning: \n",
      "A value is trying to be set on a copy of a slice from a DataFrame.\n",
      "Try using .loc[row_indexer,col_indexer] = value instead\n",
      "\n",
      "See the caveats in the documentation: https://pandas.pydata.org/pandas-docs/stable/user_guide/indexing.html#returning-a-view-versus-a-copy\n",
      "  df_data['WEATHER'] = df_data['WEATHER'].astype('category')\n",
      "<ipython-input-15-a5f8c1f53cd0>:14: SettingWithCopyWarning: \n",
      "A value is trying to be set on a copy of a slice from a DataFrame.\n",
      "Try using .loc[row_indexer,col_indexer] = value instead\n",
      "\n",
      "See the caveats in the documentation: https://pandas.pydata.org/pandas-docs/stable/user_guide/indexing.html#returning-a-view-versus-a-copy\n",
      "  df_data['WEATHER'] = df_data['WEATHER'].cat.codes\n",
      "<ipython-input-15-a5f8c1f53cd0>:16: SettingWithCopyWarning: \n",
      "A value is trying to be set on a copy of a slice from a DataFrame.\n",
      "Try using .loc[row_indexer,col_indexer] = value instead\n",
      "\n",
      "See the caveats in the documentation: https://pandas.pydata.org/pandas-docs/stable/user_guide/indexing.html#returning-a-view-versus-a-copy\n",
      "  df_data['ROADCOND'] = df_data['ROADCOND'].astype('category')\n",
      "<ipython-input-15-a5f8c1f53cd0>:17: SettingWithCopyWarning: \n",
      "A value is trying to be set on a copy of a slice from a DataFrame.\n",
      "Try using .loc[row_indexer,col_indexer] = value instead\n",
      "\n",
      "See the caveats in the documentation: https://pandas.pydata.org/pandas-docs/stable/user_guide/indexing.html#returning-a-view-versus-a-copy\n",
      "  df_data['ROADCOND'] = df_data['ROADCOND'].cat.codes\n",
      "<ipython-input-15-a5f8c1f53cd0>:19: SettingWithCopyWarning: \n",
      "A value is trying to be set on a copy of a slice from a DataFrame.\n",
      "Try using .loc[row_indexer,col_indexer] = value instead\n",
      "\n",
      "See the caveats in the documentation: https://pandas.pydata.org/pandas-docs/stable/user_guide/indexing.html#returning-a-view-versus-a-copy\n",
      "  df_data['LIGHTCOND'] = df_data['LIGHTCOND'].astype('category')\n",
      "<ipython-input-15-a5f8c1f53cd0>:20: SettingWithCopyWarning: \n",
      "A value is trying to be set on a copy of a slice from a DataFrame.\n",
      "Try using .loc[row_indexer,col_indexer] = value instead\n",
      "\n",
      "See the caveats in the documentation: https://pandas.pydata.org/pandas-docs/stable/user_guide/indexing.html#returning-a-view-versus-a-copy\n",
      "  df_data['LIGHTCOND'] = df_data['LIGHTCOND'].cat.codes\n",
      "<ipython-input-15-a5f8c1f53cd0>:22: SettingWithCopyWarning: \n",
      "A value is trying to be set on a copy of a slice from a DataFrame.\n",
      "Try using .loc[row_indexer,col_indexer] = value instead\n",
      "\n",
      "See the caveats in the documentation: https://pandas.pydata.org/pandas-docs/stable/user_guide/indexing.html#returning-a-view-versus-a-copy\n",
      "  df_data['HITPARKEDCAR'] = df_data['HITPARKEDCAR'].astype('category')\n",
      "<ipython-input-15-a5f8c1f53cd0>:23: SettingWithCopyWarning: \n",
      "A value is trying to be set on a copy of a slice from a DataFrame.\n",
      "Try using .loc[row_indexer,col_indexer] = value instead\n",
      "\n",
      "See the caveats in the documentation: https://pandas.pydata.org/pandas-docs/stable/user_guide/indexing.html#returning-a-view-versus-a-copy\n",
      "  df_data['HITPARKEDCAR'] = df_data['HITPARKEDCAR'].cat.codes\n",
      "<ipython-input-15-a5f8c1f53cd0>:25: SettingWithCopyWarning: \n",
      "A value is trying to be set on a copy of a slice from a DataFrame.\n",
      "Try using .loc[row_indexer,col_indexer] = value instead\n",
      "\n",
      "See the caveats in the documentation: https://pandas.pydata.org/pandas-docs/stable/user_guide/indexing.html#returning-a-view-versus-a-copy\n",
      "  df_data['INCMNTH'] = pd.to_numeric(df_data['INCMNTH'])\n",
      "<ipython-input-15-a5f8c1f53cd0>:26: SettingWithCopyWarning: \n",
      "A value is trying to be set on a copy of a slice from a DataFrame.\n",
      "Try using .loc[row_indexer,col_indexer] = value instead\n",
      "\n",
      "See the caveats in the documentation: https://pandas.pydata.org/pandas-docs/stable/user_guide/indexing.html#returning-a-view-versus-a-copy\n",
      "  df_data['INCWKDY'] = pd.to_numeric(df_data['INCWKDY'])\n",
      "<ipython-input-15-a5f8c1f53cd0>:27: SettingWithCopyWarning: \n",
      "A value is trying to be set on a copy of a slice from a DataFrame.\n",
      "Try using .loc[row_indexer,col_indexer] = value instead\n",
      "\n",
      "See the caveats in the documentation: https://pandas.pydata.org/pandas-docs/stable/user_guide/indexing.html#returning-a-view-versus-a-copy\n",
      "  df_data['UNDERINFL'] = pd.to_numeric(df_data['UNDERINFL'])\n",
      "<ipython-input-15-a5f8c1f53cd0>:28: SettingWithCopyWarning: \n",
      "A value is trying to be set on a copy of a slice from a DataFrame.\n",
      "Try using .loc[row_indexer,col_indexer] = value instead\n",
      "\n",
      "See the caveats in the documentation: https://pandas.pydata.org/pandas-docs/stable/user_guide/indexing.html#returning-a-view-versus-a-copy\n",
      "  df_data['ST_COLCODE'] = pd.to_numeric(df_data['ST_COLCODE'])\n"
     ]
    },
    {
     "data": {
      "text/html": [
       "<div>\n",
       "<style scoped>\n",
       "    .dataframe tbody tr th:only-of-type {\n",
       "        vertical-align: middle;\n",
       "    }\n",
       "\n",
       "    .dataframe tbody tr th {\n",
       "        vertical-align: top;\n",
       "    }\n",
       "\n",
       "    .dataframe thead th {\n",
       "        text-align: right;\n",
       "    }\n",
       "</style>\n",
       "<table border=\"1\" class=\"dataframe\">\n",
       "  <thead>\n",
       "    <tr style=\"text-align: right;\">\n",
       "      <th></th>\n",
       "      <th>SEVERITYCODE</th>\n",
       "      <th>LATITUDE</th>\n",
       "      <th>LONGITUDE</th>\n",
       "      <th>ADDRTYPE</th>\n",
       "      <th>COLLISIONTYPE</th>\n",
       "      <th>PERSONCOUNT</th>\n",
       "      <th>PEDCOUNT</th>\n",
       "      <th>PEDCYLCOUNT</th>\n",
       "      <th>VEHCOUNT</th>\n",
       "      <th>INCYEAR</th>\n",
       "      <th>...</th>\n",
       "      <th>INCHOUR</th>\n",
       "      <th>INCWKDY</th>\n",
       "      <th>JUNCTIONTYPE</th>\n",
       "      <th>SDOT_COLCODE</th>\n",
       "      <th>UNDERINFL</th>\n",
       "      <th>WEATHER</th>\n",
       "      <th>ROADCOND</th>\n",
       "      <th>LIGHTCOND</th>\n",
       "      <th>ST_COLCODE</th>\n",
       "      <th>HITPARKEDCAR</th>\n",
       "    </tr>\n",
       "  </thead>\n",
       "  <tbody>\n",
       "    <tr>\n",
       "      <th>29959</th>\n",
       "      <td>2</td>\n",
       "      <td>47.628670</td>\n",
       "      <td>-122.320212</td>\n",
       "      <td>2</td>\n",
       "      <td>0</td>\n",
       "      <td>2</td>\n",
       "      <td>0</td>\n",
       "      <td>0</td>\n",
       "      <td>2</td>\n",
       "      <td>2005</td>\n",
       "      <td>...</td>\n",
       "      <td>16</td>\n",
       "      <td>4</td>\n",
       "      <td>1</td>\n",
       "      <td>11</td>\n",
       "      <td>0.0</td>\n",
       "      <td>1</td>\n",
       "      <td>0</td>\n",
       "      <td>5</td>\n",
       "      <td>10.0</td>\n",
       "      <td>0</td>\n",
       "    </tr>\n",
       "    <tr>\n",
       "      <th>110326</th>\n",
       "      <td>1</td>\n",
       "      <td>47.679416</td>\n",
       "      <td>-122.290376</td>\n",
       "      <td>2</td>\n",
       "      <td>6</td>\n",
       "      <td>2</td>\n",
       "      <td>1</td>\n",
       "      <td>0</td>\n",
       "      <td>1</td>\n",
       "      <td>2012</td>\n",
       "      <td>...</td>\n",
       "      <td>15</td>\n",
       "      <td>6</td>\n",
       "      <td>1</td>\n",
       "      <td>24</td>\n",
       "      <td>0.0</td>\n",
       "      <td>1</td>\n",
       "      <td>0</td>\n",
       "      <td>5</td>\n",
       "      <td>2.0</td>\n",
       "      <td>0</td>\n",
       "    </tr>\n",
       "    <tr>\n",
       "      <th>5970</th>\n",
       "      <td>2</td>\n",
       "      <td>47.601695</td>\n",
       "      <td>-122.317823</td>\n",
       "      <td>2</td>\n",
       "      <td>0</td>\n",
       "      <td>2</td>\n",
       "      <td>0</td>\n",
       "      <td>0</td>\n",
       "      <td>2</td>\n",
       "      <td>2004</td>\n",
       "      <td>...</td>\n",
       "      <td>0</td>\n",
       "      <td>5</td>\n",
       "      <td>1</td>\n",
       "      <td>11</td>\n",
       "      <td>1.0</td>\n",
       "      <td>1</td>\n",
       "      <td>0</td>\n",
       "      <td>2</td>\n",
       "      <td>10.0</td>\n",
       "      <td>0</td>\n",
       "    </tr>\n",
       "    <tr>\n",
       "      <th>130027</th>\n",
       "      <td>1</td>\n",
       "      <td>47.546051</td>\n",
       "      <td>-122.285158</td>\n",
       "      <td>1</td>\n",
       "      <td>7</td>\n",
       "      <td>2</td>\n",
       "      <td>0</td>\n",
       "      <td>0</td>\n",
       "      <td>2</td>\n",
       "      <td>2014</td>\n",
       "      <td>...</td>\n",
       "      <td>19</td>\n",
       "      <td>3</td>\n",
       "      <td>3</td>\n",
       "      <td>14</td>\n",
       "      <td>0.0</td>\n",
       "      <td>10</td>\n",
       "      <td>7</td>\n",
       "      <td>8</td>\n",
       "      <td>14.0</td>\n",
       "      <td>0</td>\n",
       "    </tr>\n",
       "    <tr>\n",
       "      <th>76480</th>\n",
       "      <td>2</td>\n",
       "      <td>47.526469</td>\n",
       "      <td>-122.324681</td>\n",
       "      <td>1</td>\n",
       "      <td>7</td>\n",
       "      <td>6</td>\n",
       "      <td>0</td>\n",
       "      <td>0</td>\n",
       "      <td>2</td>\n",
       "      <td>2009</td>\n",
       "      <td>...</td>\n",
       "      <td>0</td>\n",
       "      <td>1</td>\n",
       "      <td>3</td>\n",
       "      <td>14</td>\n",
       "      <td>0.0</td>\n",
       "      <td>6</td>\n",
       "      <td>5</td>\n",
       "      <td>2</td>\n",
       "      <td>14.0</td>\n",
       "      <td>0</td>\n",
       "    </tr>\n",
       "  </tbody>\n",
       "</table>\n",
       "<p>5 rows × 22 columns</p>\n",
       "</div>"
      ],
      "text/plain": [
       "        SEVERITYCODE   LATITUDE   LONGITUDE  ADDRTYPE  COLLISIONTYPE  \\\n",
       "29959              2  47.628670 -122.320212         2              0   \n",
       "110326             1  47.679416 -122.290376         2              6   \n",
       "5970               2  47.601695 -122.317823         2              0   \n",
       "130027             1  47.546051 -122.285158         1              7   \n",
       "76480              2  47.526469 -122.324681         1              7   \n",
       "\n",
       "        PERSONCOUNT  PEDCOUNT  PEDCYLCOUNT  VEHCOUNT  INCYEAR  ...  INCHOUR  \\\n",
       "29959             2         0            0         2     2005  ...       16   \n",
       "110326            2         1            0         1     2012  ...       15   \n",
       "5970              2         0            0         2     2004  ...        0   \n",
       "130027            2         0            0         2     2014  ...       19   \n",
       "76480             6         0            0         2     2009  ...        0   \n",
       "\n",
       "        INCWKDY  JUNCTIONTYPE  SDOT_COLCODE  UNDERINFL  WEATHER  ROADCOND  \\\n",
       "29959         4             1            11        0.0        1         0   \n",
       "110326        6             1            24        0.0        1         0   \n",
       "5970          5             1            11        1.0        1         0   \n",
       "130027        3             3            14        0.0       10         7   \n",
       "76480         1             3            14        0.0        6         5   \n",
       "\n",
       "        LIGHTCOND  ST_COLCODE  HITPARKEDCAR  \n",
       "29959           5        10.0             0  \n",
       "110326          5         2.0             0  \n",
       "5970            2        10.0             0  \n",
       "130027          8        14.0             0  \n",
       "76480           2        14.0             0  \n",
       "\n",
       "[5 rows x 22 columns]"
      ]
     },
     "execution_count": 15,
     "metadata": {},
     "output_type": "execute_result"
    }
   ],
   "source": [
    "df_data['SEVERITYCODE'].replace('2b', '2.5', inplace = True)\n",
    "df_data['SEVERITYCODE'] = pd.to_numeric(df_data['SEVERITYCODE'])\n",
    "\n",
    "df_data['ADDRTYPE'] = df_data['ADDRTYPE'].astype('category')\n",
    "df_data['ADDRTYPE'] = df_data['ADDRTYPE'].cat.codes\n",
    "\n",
    "df_data['COLLISIONTYPE'] = df_data['COLLISIONTYPE'].astype('category')\n",
    "df_data['COLLISIONTYPE'] = df_data['COLLISIONTYPE'].cat.codes\n",
    "\n",
    "df_data['JUNCTIONTYPE'] = df_data['JUNCTIONTYPE'].astype('category')\n",
    "df_data['JUNCTIONTYPE'] = df_data['JUNCTIONTYPE'].cat.codes\n",
    "\n",
    "df_data['WEATHER'] = df_data['WEATHER'].astype('category')\n",
    "df_data['WEATHER'] = df_data['WEATHER'].cat.codes\n",
    "\n",
    "df_data['ROADCOND'] = df_data['ROADCOND'].astype('category')\n",
    "df_data['ROADCOND'] = df_data['ROADCOND'].cat.codes\n",
    "\n",
    "df_data['LIGHTCOND'] = df_data['LIGHTCOND'].astype('category')\n",
    "df_data['LIGHTCOND'] = df_data['LIGHTCOND'].cat.codes\n",
    "\n",
    "df_data['HITPARKEDCAR'] = df_data['HITPARKEDCAR'].astype('category')\n",
    "df_data['HITPARKEDCAR'] = df_data['HITPARKEDCAR'].cat.codes\n",
    "\n",
    "df_data['INCMNTH'] = pd.to_numeric(df_data['INCMNTH'])\n",
    "df_data['INCWKDY'] = pd.to_numeric(df_data['INCWKDY'])\n",
    "df_data['UNDERINFL'] = pd.to_numeric(df_data['UNDERINFL'])\n",
    "df_data['ST_COLCODE'] = pd.to_numeric(df_data['ST_COLCODE'])\n",
    "\n",
    "df_data.head()"
   ]
  },
  {
   "cell_type": "markdown",
   "metadata": {},
   "source": [
    "Now let's generate the \"Correlation\" coefficients for all the various attributes with respect to the \"Severity Code\"."
   ]
  },
  {
   "cell_type": "code",
   "execution_count": 16,
   "metadata": {},
   "outputs": [],
   "source": [
    "x_cols = [col for col in df_data.columns if col not in ['SEVERITYCODE']]\n",
    "\n",
    "labels = []\n",
    "values = []\n",
    "for col in x_cols:\n",
    "    labels.append(col)\n",
    "    values.append(round(np.corrcoef(df_data[col].values, df_data.SEVERITYCODE.values)[0,1],2))\n",
    "\n",
    "df_corr = pd.DataFrame({'COL_LABEL':labels, 'CORR_VALUE':values})\n",
    "df_corr = df_corr.sort_values(by='CORR_VALUE')"
   ]
  },
  {
   "cell_type": "markdown",
   "metadata": {},
   "source": [
    "Let's select only those columns wth a correlation value <= -0.04 and >= 0.04 and for Model fitment."
   ]
  },
  {
   "cell_type": "code",
   "execution_count": 17,
   "metadata": {
    "scrolled": true
   },
   "outputs": [
    {
     "data": {
      "text/html": [
       "<div>\n",
       "<style scoped>\n",
       "    .dataframe tbody tr th:only-of-type {\n",
       "        vertical-align: middle;\n",
       "    }\n",
       "\n",
       "    .dataframe tbody tr th {\n",
       "        vertical-align: top;\n",
       "    }\n",
       "\n",
       "    .dataframe thead th {\n",
       "        text-align: right;\n",
       "    }\n",
       "</style>\n",
       "<table border=\"1\" class=\"dataframe\">\n",
       "  <thead>\n",
       "    <tr style=\"text-align: right;\">\n",
       "      <th></th>\n",
       "      <th>COL_LABEL</th>\n",
       "      <th>CORR_VALUE</th>\n",
       "    </tr>\n",
       "  </thead>\n",
       "  <tbody>\n",
       "    <tr>\n",
       "      <th>13</th>\n",
       "      <td>JUNCTIONTYPE</td>\n",
       "      <td>-0.15</td>\n",
       "    </tr>\n",
       "    <tr>\n",
       "      <th>20</th>\n",
       "      <td>HITPARKEDCAR</td>\n",
       "      <td>-0.13</td>\n",
       "    </tr>\n",
       "    <tr>\n",
       "      <th>3</th>\n",
       "      <td>COLLISIONTYPE</td>\n",
       "      <td>-0.12</td>\n",
       "    </tr>\n",
       "    <tr>\n",
       "      <th>16</th>\n",
       "      <td>WEATHER</td>\n",
       "      <td>-0.12</td>\n",
       "    </tr>\n",
       "    <tr>\n",
       "      <th>7</th>\n",
       "      <td>VEHCOUNT</td>\n",
       "      <td>-0.06</td>\n",
       "    </tr>\n",
       "    <tr>\n",
       "      <th>17</th>\n",
       "      <td>ROADCOND</td>\n",
       "      <td>-0.05</td>\n",
       "    </tr>\n",
       "    <tr>\n",
       "      <th>4</th>\n",
       "      <td>PERSONCOUNT</td>\n",
       "      <td>0.14</td>\n",
       "    </tr>\n",
       "    <tr>\n",
       "      <th>6</th>\n",
       "      <td>PEDCYLCOUNT</td>\n",
       "      <td>0.19</td>\n",
       "    </tr>\n",
       "    <tr>\n",
       "      <th>14</th>\n",
       "      <td>SDOT_COLCODE</td>\n",
       "      <td>0.19</td>\n",
       "    </tr>\n",
       "    <tr>\n",
       "      <th>2</th>\n",
       "      <td>ADDRTYPE</td>\n",
       "      <td>0.21</td>\n",
       "    </tr>\n",
       "    <tr>\n",
       "      <th>5</th>\n",
       "      <td>PEDCOUNT</td>\n",
       "      <td>0.22</td>\n",
       "    </tr>\n",
       "  </tbody>\n",
       "</table>\n",
       "</div>"
      ],
      "text/plain": [
       "        COL_LABEL  CORR_VALUE\n",
       "13   JUNCTIONTYPE       -0.15\n",
       "20   HITPARKEDCAR       -0.13\n",
       "3   COLLISIONTYPE       -0.12\n",
       "16        WEATHER       -0.12\n",
       "7        VEHCOUNT       -0.06\n",
       "17       ROADCOND       -0.05\n",
       "4     PERSONCOUNT        0.14\n",
       "6     PEDCYLCOUNT        0.19\n",
       "14   SDOT_COLCODE        0.19\n",
       "2        ADDRTYPE        0.21\n",
       "5        PEDCOUNT        0.22"
      ]
     },
     "execution_count": 17,
     "metadata": {},
     "output_type": "execute_result"
    }
   ],
   "source": [
    "df_corr_sel = df_corr.loc[(df_corr['CORR_VALUE']>=0.05) | (df_corr['CORR_VALUE'] <= -0.05)]\n",
    "df_corr_sel"
   ]
  },
  {
   "cell_type": "code",
   "execution_count": 18,
   "metadata": {},
   "outputs": [],
   "source": [
    "# !conda install -c anaconda seaborn -y"
   ]
  },
  {
   "cell_type": "code",
   "execution_count": 19,
   "metadata": {
    "scrolled": true
   },
   "outputs": [
    {
     "data": {
      "image/png": "[encoded data removed]",
      "text/plain": [
       "<Figure size 720x360 with 1 Axes>"
      ]
     },
     "metadata": {
      "needs_background": "light"
     },
     "output_type": "display_data"
    }
   ],
   "source": [
    "import seaborn as sns\n",
    "\n",
    "fig, ax=plt.subplots(figsize=(10,5))\n",
    "\n",
    "ax = sns.countplot(x=\"WEATHER\", hue=\"SEVERITYDESC\", data=df[df[\"WEATHER\"].isin(['Clear', 'Raining', 'Overcast', 'Unknown', 'Snowing'])])\n",
    "ax.tick_params(labelsize=10)\n",
    "\n",
    "plt.title('Weather Condition (vs) No. of Car Accidents in Seattle City',fontsize=12)\n",
    "plt.xlabel('Weather Condition',fontsize=15)\n",
    "plt.ylabel('Number of Accidents',fontsize=15)\n",
    "plt.show()"
   ]
  },
  {
   "cell_type": "code",
   "execution_count": 20,
   "metadata": {},
   "outputs": [
    {
     "data": {
      "image/png": "[encoded data removed]",
      "text/plain": [
       "<Figure size 720x360 with 1 Axes>"
      ]
     },
     "metadata": {
      "needs_background": "light"
     },
     "output_type": "display_data"
    }
   ],
   "source": [
    "fig, ax=plt.subplots(figsize=(10,5))\n",
    "\n",
    "ax = sns.countplot(x=\"ADDRTYPE\", hue=\"SEVERITYDESC\", data=df)\n",
    "ax.tick_params(labelsize=10)\n",
    "\n",
    "plt.title('Address Type (vs) No. of Car Accidents in Seattle City',fontsize=12)\n",
    "plt.xlabel('Address Type',fontsize=15)\n",
    "plt.ylabel('Number of Accidents',fontsize=15)\n",
    "plt.show()"
   ]
  },
  {
   "cell_type": "markdown",
   "metadata": {},
   "source": [
    "From the above table, we observe that \"Junction Type\" has a best negative correlation."
   ]
  },
  {
   "cell_type": "code",
   "execution_count": 21,
   "metadata": {},
   "outputs": [
    {
     "data": {
      "image/png": "[encoded data removed]",
      "text/plain": [
       "<Figure size 576x576 with 2 Axes>"
      ]
     },
     "metadata": {
      "needs_background": "light"
     },
     "output_type": "display_data"
    }
   ],
   "source": [
    "df_cols_sel = df_corr_sel.COL_LABEL.tolist()\n",
    "df_cols_sel.insert(0, 'SEVERITYCODE') \n",
    "df_feature = df_data[df_cols_sel]\n",
    "corr_mat = df_feature.corr(method='spearman')\n",
    "\n",
    "fig,ax= plt.subplots(figsize=(8,8))\n",
    "sns.heatmap(corr_mat,vmax=1,square = True)\n",
    "plt.title('Correlation Map',fontsize=15)\n",
    "plt.show()"
   ]
  },
  {
   "cell_type": "markdown",
   "metadata": {},
   "source": [
    "### Feature & Label Selection"
   ]
  },
  {
   "cell_type": "code",
   "execution_count": 22,
   "metadata": {},
   "outputs": [
    {
     "data": {
      "text/html": [
       "<div>\n",
       "<style scoped>\n",
       "    .dataframe tbody tr th:only-of-type {\n",
       "        vertical-align: middle;\n",
       "    }\n",
       "\n",
       "    .dataframe tbody tr th {\n",
       "        vertical-align: top;\n",
       "    }\n",
       "\n",
       "    .dataframe thead th {\n",
       "        text-align: right;\n",
       "    }\n",
       "</style>\n",
       "<table border=\"1\" class=\"dataframe\">\n",
       "  <thead>\n",
       "    <tr style=\"text-align: right;\">\n",
       "      <th></th>\n",
       "      <th>JUNCTIONTYPE</th>\n",
       "      <th>HITPARKEDCAR</th>\n",
       "      <th>COLLISIONTYPE</th>\n",
       "      <th>WEATHER</th>\n",
       "      <th>VEHCOUNT</th>\n",
       "      <th>ROADCOND</th>\n",
       "      <th>PERSONCOUNT</th>\n",
       "      <th>PEDCYLCOUNT</th>\n",
       "      <th>SDOT_COLCODE</th>\n",
       "      <th>ADDRTYPE</th>\n",
       "      <th>PEDCOUNT</th>\n",
       "    </tr>\n",
       "  </thead>\n",
       "  <tbody>\n",
       "    <tr>\n",
       "      <th>29959</th>\n",
       "      <td>1</td>\n",
       "      <td>0</td>\n",
       "      <td>0</td>\n",
       "      <td>1</td>\n",
       "      <td>2</td>\n",
       "      <td>0</td>\n",
       "      <td>2</td>\n",
       "      <td>0</td>\n",
       "      <td>11</td>\n",
       "      <td>2</td>\n",
       "      <td>0</td>\n",
       "    </tr>\n",
       "    <tr>\n",
       "      <th>110326</th>\n",
       "      <td>1</td>\n",
       "      <td>0</td>\n",
       "      <td>6</td>\n",
       "      <td>1</td>\n",
       "      <td>1</td>\n",
       "      <td>0</td>\n",
       "      <td>2</td>\n",
       "      <td>0</td>\n",
       "      <td>24</td>\n",
       "      <td>2</td>\n",
       "      <td>1</td>\n",
       "    </tr>\n",
       "    <tr>\n",
       "      <th>5970</th>\n",
       "      <td>1</td>\n",
       "      <td>0</td>\n",
       "      <td>0</td>\n",
       "      <td>1</td>\n",
       "      <td>2</td>\n",
       "      <td>0</td>\n",
       "      <td>2</td>\n",
       "      <td>0</td>\n",
       "      <td>11</td>\n",
       "      <td>2</td>\n",
       "      <td>0</td>\n",
       "    </tr>\n",
       "    <tr>\n",
       "      <th>130027</th>\n",
       "      <td>3</td>\n",
       "      <td>0</td>\n",
       "      <td>7</td>\n",
       "      <td>10</td>\n",
       "      <td>2</td>\n",
       "      <td>7</td>\n",
       "      <td>2</td>\n",
       "      <td>0</td>\n",
       "      <td>14</td>\n",
       "      <td>1</td>\n",
       "      <td>0</td>\n",
       "    </tr>\n",
       "    <tr>\n",
       "      <th>76480</th>\n",
       "      <td>3</td>\n",
       "      <td>0</td>\n",
       "      <td>7</td>\n",
       "      <td>6</td>\n",
       "      <td>2</td>\n",
       "      <td>5</td>\n",
       "      <td>6</td>\n",
       "      <td>0</td>\n",
       "      <td>14</td>\n",
       "      <td>1</td>\n",
       "      <td>0</td>\n",
       "    </tr>\n",
       "  </tbody>\n",
       "</table>\n",
       "</div>"
      ],
      "text/plain": [
       "        JUNCTIONTYPE  HITPARKEDCAR  COLLISIONTYPE  WEATHER  VEHCOUNT  \\\n",
       "29959              1             0              0        1         2   \n",
       "110326             1             0              6        1         1   \n",
       "5970               1             0              0        1         2   \n",
       "130027             3             0              7       10         2   \n",
       "76480              3             0              7        6         2   \n",
       "\n",
       "        ROADCOND  PERSONCOUNT  PEDCYLCOUNT  SDOT_COLCODE  ADDRTYPE  PEDCOUNT  \n",
       "29959          0            2            0            11         2         0  \n",
       "110326         0            2            0            24         2         1  \n",
       "5970           0            2            0            11         2         0  \n",
       "130027         7            2            0            14         1         0  \n",
       "76480          5            6            0            14         1         0  "
      ]
     },
     "execution_count": 22,
     "metadata": {},
     "output_type": "execute_result"
    }
   ],
   "source": [
    "y = df_feature['SEVERITYCODE']\n",
    "X = df_feature.drop(['SEVERITYCODE'], axis=1)\n",
    "X[0:5]"
   ]
  },
  {
   "cell_type": "markdown",
   "metadata": {},
   "source": [
    "### Normalize Data"
   ]
  },
  {
   "cell_type": "code",
   "execution_count": 23,
   "metadata": {},
   "outputs": [
    {
     "data": {
      "text/plain": [
       "array([[-1.01794761, -0.17308419, -1.44059935, -0.67567888,  0.14278715,\n",
       "        -0.66964064, -0.3659159 , -0.21327971, -0.46401365,  1.20869464,\n",
       "        -0.23758883],\n",
       "       [-1.01794761, -0.17308419,  0.60772425, -0.67567888, -1.35599501,\n",
       "        -0.66964064, -0.3659159 , -0.21327971,  1.29334292,  1.20869464,\n",
       "         3.81661024],\n",
       "       [-1.01794761, -0.17308419, -1.44059935, -0.67567888,  0.14278715,\n",
       "        -0.66964064, -0.3659159 , -0.21327971, -0.46401365,  1.20869464,\n",
       "        -0.23758883],\n",
       "       [ 0.33090889, -0.17308419,  0.94911152,  2.60469736,  0.14278715,\n",
       "         1.25664529, -0.3659159 , -0.21327971, -0.05846983, -0.67207882,\n",
       "        -0.23758883],\n",
       "       [ 0.33090889, -0.17308419,  0.94911152,  1.14675237,  0.14278715,\n",
       "         0.70627789,  2.46319844, -0.21327971, -0.05846983, -0.67207882,\n",
       "        -0.23758883]])"
      ]
     },
     "execution_count": 23,
     "metadata": {},
     "output_type": "execute_result"
    }
   ],
   "source": [
    "from sklearn.preprocessing import StandardScaler\n",
    "\n",
    "X= StandardScaler().fit(X).transform(X)\n",
    "X[0:5]"
   ]
  },
  {
   "cell_type": "markdown",
   "metadata": {},
   "source": [
    "Split the \"Feature\" and \"Label\" datasets to \"Train\" & \"Test\" datasets to loop through various Decision Tree depths to determine the best depth."
   ]
  },
  {
   "cell_type": "code",
   "execution_count": 24,
   "metadata": {},
   "outputs": [
    {
     "name": "stdout",
     "output_type": "stream",
     "text": [
      "Train set: (81463, 11) (81463,)\n",
      "Test set: (34913, 11) (34913,)\n"
     ]
    }
   ],
   "source": [
    "from sklearn.model_selection import train_test_split\n",
    "X_train, X_test, y_train, y_test = train_test_split( X, y, test_size=0.3, random_state=4)\n",
    "\n",
    "print ('Train set:', X_train.shape,  y_train.shape)\n",
    "print ('Test set:', X_test.shape,  y_test.shape)"
   ]
  },
  {
   "cell_type": "markdown",
   "metadata": {},
   "source": [
    "# Classification - K Nearest Neighbor(KNN)"
   ]
  },
  {
   "cell_type": "code",
   "execution_count": 25,
   "metadata": {},
   "outputs": [
    {
     "name": "stdout",
     "output_type": "stream",
     "text": [
      "The best accuracy was 0.6930083350041532 with k= 9\n"
     ]
    },
    {
     "data": {
      "text/plain": [
       "array([0.64823991, 0.6315699 , 0.65436943, 0.65365337, 0.67533583,\n",
       "       0.6677169 , 0.68432962, 0.67980408, 0.69300834])"
      ]
     },
     "execution_count": 25,
     "metadata": {},
     "output_type": "execute_result"
    }
   ],
   "source": [
    "from sklearn.neighbors import KNeighborsClassifier\n",
    "from sklearn import metrics\n",
    "\n",
    "Ks = 10\n",
    "mean_acc = np.zeros((Ks-1))\n",
    "\n",
    "for n in range(1,Ks):\n",
    "    knn = KNeighborsClassifier(n_neighbors = n).fit(X_train,y_train)\n",
    "    yhat=knn.predict(X_test)\n",
    "    mean_acc[n-1] = metrics.accuracy_score(y_test, yhat)\n",
    "\n",
    "print( \"The best accuracy was\", mean_acc.max(), \"with k=\", mean_acc.argmax()+1)\n",
    "mean_acc"
   ]
  },
  {
   "cell_type": "code",
   "execution_count": 26,
   "metadata": {},
   "outputs": [
    {
     "data": {
      "text/plain": [
       "KNeighborsClassifier(n_neighbors=9)"
      ]
     },
     "execution_count": 26,
     "metadata": {},
     "output_type": "execute_result"
    }
   ],
   "source": [
    "knn = KNeighborsClassifier(n_neighbors = mean_acc.argmax()+1)\n",
    "knn.fit(X_train,y_train)"
   ]
  },
  {
   "cell_type": "markdown",
   "metadata": {},
   "source": [
    "# Classification - Decision Tree"
   ]
  },
  {
   "cell_type": "code",
   "execution_count": 27,
   "metadata": {},
   "outputs": [
    {
     "name": "stdout",
     "output_type": "stream",
     "text": [
      "The best accuracy was 0.7128576747916249 with max_depth= 9\n"
     ]
    }
   ],
   "source": [
    "from sklearn.tree import DecisionTreeClassifier\n",
    "\n",
    "dts = 10\n",
    "dt_acc = np.zeros((dts-1))\n",
    "\n",
    "for n in range(1,dts):\n",
    "    dt = DecisionTreeClassifier(criterion=\"entropy\", max_depth=n).fit(X_train,y_train)\n",
    "    yhat=dt.predict(X_test)\n",
    "    dt_acc[n-1] = metrics.accuracy_score(y_test, yhat)\n",
    "\n",
    "\n",
    "print( \"The best accuracy was\", dt_acc[2:].max(), \"with max_depth=\", dt_acc[2:].argmax()+3)"
   ]
  },
  {
   "cell_type": "code",
   "execution_count": 28,
   "metadata": {},
   "outputs": [
    {
     "data": {
      "text/plain": [
       "DecisionTreeClassifier(criterion='entropy', max_depth=9)"
      ]
     },
     "execution_count": 28,
     "metadata": {},
     "output_type": "execute_result"
    }
   ],
   "source": [
    "dt = DecisionTreeClassifier(criterion=\"entropy\", max_depth=dt_acc[2:].argmax()+3)\n",
    "dt.fit(X_train,y_train)"
   ]
  },
  {
   "cell_type": "markdown",
   "metadata": {},
   "source": [
    "# Classification - Logistic Regression"
   ]
  },
  {
   "cell_type": "code",
   "execution_count": 29,
   "metadata": {},
   "outputs": [
    {
     "data": {
      "text/plain": [
       "LogisticRegression(C=0.01, solver='liblinear')"
      ]
     },
     "execution_count": 29,
     "metadata": {},
     "output_type": "execute_result"
    }
   ],
   "source": [
    "from sklearn.linear_model import LogisticRegression\n",
    "\n",
    "lr = LogisticRegression(C=0.01, solver='liblinear')\n",
    "lr.fit(X_train,y_train)"
   ]
  },
  {
   "cell_type": "markdown",
   "metadata": {},
   "source": [
    "# Classification - Random Forest"
   ]
  },
  {
   "cell_type": "code",
   "execution_count": 30,
   "metadata": {},
   "outputs": [
    {
     "data": {
      "text/plain": [
       "RandomForestClassifier()"
      ]
     },
     "execution_count": 30,
     "metadata": {},
     "output_type": "execute_result"
    }
   ],
   "source": [
    "from sklearn.ensemble import RandomForestClassifier\n",
    "\n",
    "rf = RandomForestClassifier(n_estimators=100)\n",
    "rf.fit(X_train,y_train)"
   ]
  },
  {
   "cell_type": "markdown",
   "metadata": {},
   "source": [
    "# Classification - Gradient Boost"
   ]
  },
  {
   "cell_type": "code",
   "execution_count": 31,
   "metadata": {},
   "outputs": [
    {
     "data": {
      "text/plain": [
       "GradientBoostingClassifier(learning_rate=1.0, max_depth=1, random_state=0)"
      ]
     },
     "execution_count": 31,
     "metadata": {},
     "output_type": "execute_result"
    }
   ],
   "source": [
    "from sklearn.ensemble import GradientBoostingClassifier\n",
    "\n",
    "gb = GradientBoostingClassifier(n_estimators=100, learning_rate=1.0, max_depth=1, random_state=0)\n",
    "gb.fit(X_train,y_train)"
   ]
  },
  {
   "cell_type": "markdown",
   "metadata": {},
   "source": [
    "# Model Evaluation using Test set"
   ]
  },
  {
   "cell_type": "code",
   "execution_count": 32,
   "metadata": {},
   "outputs": [],
   "source": [
    "from sklearn.metrics import jaccard_score\n",
    "from sklearn.metrics import f1_score\n",
    "from sklearn.metrics import log_loss\n",
    "from sklearn.metrics import confusion_matrix\n",
    "from sklearn.metrics import mean_squared_error\n",
    "from sklearn.metrics import roc_curve\n",
    "from sklearn.metrics import roc_auc_score"
   ]
  },
  {
   "cell_type": "code",
   "execution_count": 33,
   "metadata": {},
   "outputs": [
    {
     "data": {
      "text/plain": [
       "['KNN', 0.516, 0.693, 0.915, 12782, 5885, 4833, 11413]"
      ]
     },
     "execution_count": 33,
     "metadata": {},
     "output_type": "execute_result"
    }
   ],
   "source": [
    "yhat_knn=knn.predict(X_test)\n",
    "yhat_knn_prob = knn.predict_proba(X_test)\n",
    "\n",
    "knn_alg = \"KNN\"\n",
    "knn_jac_sim_score = jaccard_score(y_test, yhat_knn)\n",
    "knn_f1_score = f1_score(y_test, yhat_knn, average='weighted')\n",
    "knn_log_loss = log_loss(y_test, yhat_knn_prob)\n",
    "knn_tn, knn_fp, knn_fn, knn_tp = confusion_matrix(y_test, yhat_knn).ravel()\n",
    "\n",
    "knn_metrics = [knn_alg, round(knn_jac_sim_score, 3), round(knn_f1_score, 3), \"N/A\" if knn_log_loss > 1 else round(knn_log_loss,3), knn_tp, knn_fp, knn_fn, knn_tn]\n",
    "knn_metrics"
   ]
  },
  {
   "cell_type": "code",
   "execution_count": 34,
   "metadata": {},
   "outputs": [
    {
     "data": {
      "text/plain": [
       "['Decision Tree', 0.524, 0.711, 0.578, 13850, 6260, 3765, 11038]"
      ]
     },
     "execution_count": 34,
     "metadata": {},
     "output_type": "execute_result"
    }
   ],
   "source": [
    "yhat_dt=dt.predict(X_test)\n",
    "yhat_dt_prob = dt.predict_proba(X_test)\n",
    "\n",
    "dt_alg = \"Decision Tree\"\n",
    "dt_jac_sim_score = jaccard_score(y_test, yhat_dt)\n",
    "dt_f1_score = f1_score(y_test, yhat_dt, average='weighted')\n",
    "dt_log_loss = log_loss(y_test, yhat_dt_prob)\n",
    "dt_tn, dt_fp, dt_fn, dt_tp = confusion_matrix(y_test, yhat_dt).ravel()\n",
    "\n",
    "dt_metrics = [dt_alg, round(dt_jac_sim_score, 3), round(dt_f1_score, 3), \"N/A\" if dt_log_loss > 1 else round(dt_log_loss,3), dt_tp, dt_fp, dt_fn, dt_tn]\n",
    "dt_metrics"
   ]
  },
  {
   "cell_type": "code",
   "execution_count": 35,
   "metadata": {},
   "outputs": [
    {
     "data": {
      "text/plain": [
       "['Logistic Regression', 0.518, 0.665, 0.594, 10699, 4744, 6916, 12554]"
      ]
     },
     "execution_count": 35,
     "metadata": {},
     "output_type": "execute_result"
    }
   ],
   "source": [
    "yhat_lr=lr.predict(X_test)\n",
    "yhat_lr_prob = lr.predict_proba(X_test)\n",
    "\n",
    "lr_alg = \"Logistic Regression\"\n",
    "lr_jac_sim_score = jaccard_score(y_test, yhat_lr)\n",
    "lr_f1_score = f1_score(y_test, yhat_lr, average='weighted')\n",
    "lr_log_loss = log_loss(y_test, yhat_lr_prob)\n",
    "lr_tn, lr_fp, lr_fn, lr_tp = confusion_matrix(y_test, yhat_lr).ravel()\n",
    "\n",
    "lr_metrics = [lr_alg, round(lr_jac_sim_score, 3), round(lr_f1_score, 3), \"N/A\" if lr_log_loss > 1 else round(lr_log_loss,3), lr_tp, lr_fp, lr_fn, lr_tn]\n",
    "lr_metrics"
   ]
  },
  {
   "cell_type": "code",
   "execution_count": 36,
   "metadata": {},
   "outputs": [
    {
     "data": {
      "text/plain": [
       "['Random Forest', 0.516, 0.707, 0.624, 13909, 6452, 3706, 10846]"
      ]
     },
     "execution_count": 36,
     "metadata": {},
     "output_type": "execute_result"
    }
   ],
   "source": [
    "yhat_rf=rf.predict(X_test)\n",
    "yhat_rf_prob = rf.predict_proba(X_test)\n",
    "\n",
    "rf_alg = \"Random Forest\"\n",
    "rf_jac_sim_score = jaccard_score(y_test, yhat_rf)\n",
    "rf_f1_score = f1_score(y_test, yhat_rf, average='weighted')\n",
    "rf_log_loss = log_loss(y_test, yhat_rf_prob)\n",
    "rf_tn, rf_fp, rf_fn, rf_tp = confusion_matrix(y_test, yhat_rf).ravel()\n",
    "\n",
    "rf_metrics = [rf_alg, round(rf_jac_sim_score, 3), round(rf_f1_score, 3), \"N/A\" if rf_log_loss > 1 else round(rf_log_loss,3), rf_tp, rf_fp, rf_fn, rf_tn]\n",
    "rf_metrics"
   ]
  },
  {
   "cell_type": "code",
   "execution_count": 37,
   "metadata": {},
   "outputs": [
    {
     "data": {
      "text/plain": [
       "['Gradient Boost', 0.517, 0.709, 0.535, 13999, 6478, 3616, 10820]"
      ]
     },
     "execution_count": 37,
     "metadata": {},
     "output_type": "execute_result"
    }
   ],
   "source": [
    "yhat_gb=gb.predict(X_test)\n",
    "yhat_gb_prob = gb.predict_proba(X_test)\n",
    "\n",
    "gb_alg = \"Gradient Boost\"\n",
    "gb_jac_sim_score = jaccard_score(y_test, yhat_gb)\n",
    "gb_f1_score = f1_score(y_test, yhat_gb, average='weighted')\n",
    "gb_log_loss = log_loss(y_test, yhat_gb_prob)\n",
    "gb_tn, gb_fp, gb_fn, gb_tp = confusion_matrix(y_test, yhat_gb).ravel()\n",
    "\n",
    "gb_metrics = [gb_alg, round(gb_jac_sim_score, 3), round(gb_f1_score, 3), \"N/A\" if gb_log_loss > 1 else round(gb_log_loss,3), gb_tp, gb_fp, gb_fn, gb_tn]\n",
    "gb_metrics"
   ]
  },
  {
   "cell_type": "code",
   "execution_count": 38,
   "metadata": {},
   "outputs": [
    {
     "data": {
      "text/html": [
       "<style  type=\"text/css\" >\n",
       "    #T_e19364b5_f390_11ea_b488_f859717a3b67 th {\n",
       "          max-width: 80px;\n",
       "    }</style><table id=\"T_e19364b5_f390_11ea_b488_f859717a3b67\" ><thead>    <tr>        <th class=\"col_heading level0 col0\" >Algorithm</th>        <th class=\"col_heading level0 col1\" >Jaccard</th>        <th class=\"col_heading level0 col2\" >F1-score</th>        <th class=\"col_heading level0 col3\" >Log Loss</th>        <th class=\"col_heading level0 col4\" >No. of True Positives</th>        <th class=\"col_heading level0 col5\" >No. of False Positives</th>        <th class=\"col_heading level0 col6\" >No. of False Negatives</th>        <th class=\"col_heading level0 col7\" >No. of True Negatives</th>    </tr></thead><tbody>\n",
       "                <tr>\n",
       "                                <td id=\"T_e19364b5_f390_11ea_b488_f859717a3b67row0_col0\" class=\"data row0 col0\" >KNN</td>\n",
       "                        <td id=\"T_e19364b5_f390_11ea_b488_f859717a3b67row0_col1\" class=\"data row0 col1\" >0.516</td>\n",
       "                        <td id=\"T_e19364b5_f390_11ea_b488_f859717a3b67row0_col2\" class=\"data row0 col2\" >0.693</td>\n",
       "                        <td id=\"T_e19364b5_f390_11ea_b488_f859717a3b67row0_col3\" class=\"data row0 col3\" >0.915</td>\n",
       "                        <td id=\"T_e19364b5_f390_11ea_b488_f859717a3b67row0_col4\" class=\"data row0 col4\" >12782</td>\n",
       "                        <td id=\"T_e19364b5_f390_11ea_b488_f859717a3b67row0_col5\" class=\"data row0 col5\" >5885</td>\n",
       "                        <td id=\"T_e19364b5_f390_11ea_b488_f859717a3b67row0_col6\" class=\"data row0 col6\" >4833</td>\n",
       "                        <td id=\"T_e19364b5_f390_11ea_b488_f859717a3b67row0_col7\" class=\"data row0 col7\" >11413</td>\n",
       "            </tr>\n",
       "            <tr>\n",
       "                                <td id=\"T_e19364b5_f390_11ea_b488_f859717a3b67row1_col0\" class=\"data row1 col0\" >Decision Tree</td>\n",
       "                        <td id=\"T_e19364b5_f390_11ea_b488_f859717a3b67row1_col1\" class=\"data row1 col1\" >0.524</td>\n",
       "                        <td id=\"T_e19364b5_f390_11ea_b488_f859717a3b67row1_col2\" class=\"data row1 col2\" >0.711</td>\n",
       "                        <td id=\"T_e19364b5_f390_11ea_b488_f859717a3b67row1_col3\" class=\"data row1 col3\" >0.578</td>\n",
       "                        <td id=\"T_e19364b5_f390_11ea_b488_f859717a3b67row1_col4\" class=\"data row1 col4\" >13850</td>\n",
       "                        <td id=\"T_e19364b5_f390_11ea_b488_f859717a3b67row1_col5\" class=\"data row1 col5\" >6260</td>\n",
       "                        <td id=\"T_e19364b5_f390_11ea_b488_f859717a3b67row1_col6\" class=\"data row1 col6\" >3765</td>\n",
       "                        <td id=\"T_e19364b5_f390_11ea_b488_f859717a3b67row1_col7\" class=\"data row1 col7\" >11038</td>\n",
       "            </tr>\n",
       "            <tr>\n",
       "                                <td id=\"T_e19364b5_f390_11ea_b488_f859717a3b67row2_col0\" class=\"data row2 col0\" >Logistic Regression</td>\n",
       "                        <td id=\"T_e19364b5_f390_11ea_b488_f859717a3b67row2_col1\" class=\"data row2 col1\" >0.518</td>\n",
       "                        <td id=\"T_e19364b5_f390_11ea_b488_f859717a3b67row2_col2\" class=\"data row2 col2\" >0.665</td>\n",
       "                        <td id=\"T_e19364b5_f390_11ea_b488_f859717a3b67row2_col3\" class=\"data row2 col3\" >0.594</td>\n",
       "                        <td id=\"T_e19364b5_f390_11ea_b488_f859717a3b67row2_col4\" class=\"data row2 col4\" >10699</td>\n",
       "                        <td id=\"T_e19364b5_f390_11ea_b488_f859717a3b67row2_col5\" class=\"data row2 col5\" >4744</td>\n",
       "                        <td id=\"T_e19364b5_f390_11ea_b488_f859717a3b67row2_col6\" class=\"data row2 col6\" >6916</td>\n",
       "                        <td id=\"T_e19364b5_f390_11ea_b488_f859717a3b67row2_col7\" class=\"data row2 col7\" >12554</td>\n",
       "            </tr>\n",
       "            <tr>\n",
       "                                <td id=\"T_e19364b5_f390_11ea_b488_f859717a3b67row3_col0\" class=\"data row3 col0\" >Random Forest</td>\n",
       "                        <td id=\"T_e19364b5_f390_11ea_b488_f859717a3b67row3_col1\" class=\"data row3 col1\" >0.516</td>\n",
       "                        <td id=\"T_e19364b5_f390_11ea_b488_f859717a3b67row3_col2\" class=\"data row3 col2\" >0.707</td>\n",
       "                        <td id=\"T_e19364b5_f390_11ea_b488_f859717a3b67row3_col3\" class=\"data row3 col3\" >0.624</td>\n",
       "                        <td id=\"T_e19364b5_f390_11ea_b488_f859717a3b67row3_col4\" class=\"data row3 col4\" >13909</td>\n",
       "                        <td id=\"T_e19364b5_f390_11ea_b488_f859717a3b67row3_col5\" class=\"data row3 col5\" >6452</td>\n",
       "                        <td id=\"T_e19364b5_f390_11ea_b488_f859717a3b67row3_col6\" class=\"data row3 col6\" >3706</td>\n",
       "                        <td id=\"T_e19364b5_f390_11ea_b488_f859717a3b67row3_col7\" class=\"data row3 col7\" >10846</td>\n",
       "            </tr>\n",
       "            <tr>\n",
       "                                <td id=\"T_e19364b5_f390_11ea_b488_f859717a3b67row4_col0\" class=\"data row4 col0\" >Gradient Boost</td>\n",
       "                        <td id=\"T_e19364b5_f390_11ea_b488_f859717a3b67row4_col1\" class=\"data row4 col1\" >0.517</td>\n",
       "                        <td id=\"T_e19364b5_f390_11ea_b488_f859717a3b67row4_col2\" class=\"data row4 col2\" >0.709</td>\n",
       "                        <td id=\"T_e19364b5_f390_11ea_b488_f859717a3b67row4_col3\" class=\"data row4 col3\" >0.535</td>\n",
       "                        <td id=\"T_e19364b5_f390_11ea_b488_f859717a3b67row4_col4\" class=\"data row4 col4\" >13999</td>\n",
       "                        <td id=\"T_e19364b5_f390_11ea_b488_f859717a3b67row4_col5\" class=\"data row4 col5\" >6478</td>\n",
       "                        <td id=\"T_e19364b5_f390_11ea_b488_f859717a3b67row4_col6\" class=\"data row4 col6\" >3616</td>\n",
       "                        <td id=\"T_e19364b5_f390_11ea_b488_f859717a3b67row4_col7\" class=\"data row4 col7\" >10820</td>\n",
       "            </tr>\n",
       "    </tbody></table>"
      ],
      "text/plain": [
       "<pandas.io.formats.style.Styler at 0x242bae3ba90>"
      ]
     },
     "execution_count": 38,
     "metadata": {},
     "output_type": "execute_result"
    }
   ],
   "source": [
    "df_report = pd.DataFrame(np.array([knn_metrics, dt_metrics, lr_metrics, rf_metrics, gb_metrics]),\n",
    "                         columns=[\"Algorithm\", \"Jaccard\", \"F1-score\", \"Log Loss\",\n",
    "                                  \"No. of True Positives\", \"No. of False Positives\",\n",
    "                                  \"No. of False Negatives\", \"No. of True Negatives\"])\n",
    "df_report.style.set_table_styles([dict(selector=\"th\",props=[('max-width', '80px')])]) \\\n",
    "               .hide_index()"
   ]
  },
  {
   "cell_type": "markdown",
   "metadata": {},
   "source": [
    "Based on the above Table, the best classification model turns out to be \"Decision Tree\". Let's plot a scatter plot between the \"Predicted\" and the \"Actual\" values generated by the model."
   ]
  },
  {
   "cell_type": "code",
   "execution_count": 39,
   "metadata": {},
   "outputs": [],
   "source": [
    "yhat_knn_prob = knn.predict_proba(X_test)\n",
    "yhat_knn_prob = yhat_knn_prob[:, 1]\n",
    "knn_fp, knn_tp, _ = roc_curve(y_test, yhat_knn_prob, pos_label=2)\n",
    "\n",
    "yhat_dt_prob = dt.predict_proba(X_test)\n",
    "yhat_dt_prob = yhat_dt_prob[:, 1]\n",
    "dt_fp, dt_tp, _ = roc_curve(y_test, yhat_dt_prob, pos_label=2)\n",
    "\n",
    "yhat_lr_prob = lr.predict_proba(X_test)\n",
    "yhat_lr_prob = yhat_lr_prob[:, 1]\n",
    "lr_fp, lr_tp, _ = roc_curve(y_test, yhat_lr_prob, pos_label=2)\n",
    "\n",
    "yhat_rf_prob = rf.predict_proba(X_test)\n",
    "yhat_rf_prob = yhat_rf_prob[:, 1]\n",
    "rf_fp, rf_tp, _ = roc_curve(y_test, yhat_rf_prob, pos_label=2)\n",
    "\n",
    "yhat_gb_prob = gb.predict_proba(X_test)\n",
    "yhat_gb_prob = yhat_gb_prob[:, 1]\n",
    "gb_fp, gb_tp, _ = roc_curve(y_test, yhat_gb_prob, pos_label=2)"
   ]
  },
  {
   "cell_type": "code",
   "execution_count": 40,
   "metadata": {},
   "outputs": [
    {
     "data": {
      "image/png": "[encoded data removed]",
      "text/plain": [
       "<Figure size 576x360 with 1 Axes>"
      ]
     },
     "metadata": {
      "needs_background": "light"
     },
     "output_type": "display_data"
    }
   ],
   "source": [
    "fig, ax=plt.subplots(figsize=(8,5))\n",
    "\n",
    "plt.plot(knn_fp, knn_tp, marker='.', label='KNN')\n",
    "plt.plot(dt_fp, dt_tp, marker='.', label='Decision Tree')\n",
    "plt.plot(lr_fp, lr_tp, marker='.', label='Logistic Regression')\n",
    "plt.plot(rf_fp, rf_tp, marker='.', label='Random Forest')\n",
    "plt.plot(gb_fp, gb_tp, marker='.', label='Gradient Boost')\n",
    "\n",
    "plt.xlabel('False Positive Rate')\n",
    "plt.ylabel('True Positive Rate')\n",
    "\n",
    "plt.legend()\n",
    "plt.grid()\n",
    "plt.show()"
   ]
  }
 ],
 "metadata": {
  "kernelspec": {
   "display_name": "Python 3",
   "language": "python",
   "name": "python3"
  },
  "language_info": {
   "codemirror_mode": {
    "name": "ipython",
    "version": 3
   },
   "file_extension": ".py",
   "mimetype": "text/x-python",
   "name": "python",
   "nbconvert_exporter": "python",
   "pygments_lexer": "ipython3",
   "version": "3.8.3"
  }
 },
 "nbformat": 4,
 "nbformat_minor": 4
}
